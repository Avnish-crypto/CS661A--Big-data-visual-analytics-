{
 "cells": [
  {
   "attachments": {},
   "cell_type": "markdown",
   "id": "89118386",
   "metadata": {},
   "source": [
    "# Avnish Tripathi \n",
    "# 22111014\n",
    "# Assingment 3"
   ]
  },
  {
   "cell_type": "code",
   "execution_count": 1,
   "id": "e430e0e4",
   "metadata": {},
   "outputs": [
    {
     "name": "stderr",
     "output_type": "stream",
     "text": [
      "c:\\Users\\pc\\miniconda3\\lib\\site-packages\\numpy\\_distributor_init.py:30: UserWarning: loaded more than 1 DLL from .libs:\n",
      "c:\\Users\\pc\\miniconda3\\lib\\site-packages\\numpy\\.libs\\libopenblas.EL2C6PLE4ZYW3ECEVIV3OXXGRN2NRFM2.gfortran-win_amd64.dll\n",
      "c:\\Users\\pc\\miniconda3\\lib\\site-packages\\numpy\\.libs\\libopenblas.XWYDX2IKJW2NMTWSFYNGFUWKQU3LYTCZ.gfortran-win_amd64.dll\n",
      "  warnings.warn(\"loaded more than 1 DLL from .libs:\"\n"
     ]
    }
   ],
   "source": [
    "# importing necessary modules\n",
    "import pandas as pd\n",
    "import numpy as np\n",
    "import plotly.graph_objs as go\n",
    "import plotly.express as px\n",
    "import ipywidgets as widgets\n",
    "from vtk import *"
   ]
  },
  {
   "cell_type": "code",
   "execution_count": 2,
   "id": "a3ab7d9b",
   "metadata": {},
   "outputs": [],
   "source": [
    "# Create the dataset\n",
    "reader = vtkXMLImageDataReader()\n",
    "reader.SetFileName('mixture.vti')\n",
    "reader.Update()\n",
    "data = reader.GetOutput()"
   ]
  },
  {
   "cell_type": "code",
   "execution_count": 3,
   "id": "6332db00",
   "metadata": {},
   "outputs": [],
   "source": [
    "def get_num_points():\n",
    "    ''' functions to return num_of_points'''\n",
    "    num_dimensions = data.GetDimensions()\n",
    "    num_points = num_dimensions[0] * num_dimensions[1] * num_dimensions[2]\n",
    "    # print(num_points)\n",
    "    return num_points"
   ]
  },
  {
   "cell_type": "code",
   "execution_count": 4,
   "id": "36032e2b",
   "metadata": {},
   "outputs": [],
   "source": [
    "array_of_data = data.GetPointData().GetArray('ImageFile')\n",
    "values = [array_of_data.GetTuple1(pid) for pid in range(get_num_points())]\n",
    "Range = data.GetScalarRange()\n",
    "# print(Range)"
   ]
  },
  {
   "cell_type": "code",
   "execution_count": 5,
   "id": "86ce08e8",
   "metadata": {},
   "outputs": [],
   "source": [
    "def get_coordinates():\n",
    "    coordinates = [data.GetPoint(pid) for pid in range(get_num_points())]\n",
    "    x = [i[0] for i in coordinates]\n",
    "    y = [i[1] for i in coordinates]\n",
    "    z = [i[2] for i in coordinates]\n",
    "    return x , y , z"
   ]
  },
  {
   "cell_type": "code",
   "execution_count": 6,
   "id": "8c71ab17",
   "metadata": {},
   "outputs": [],
   "source": [
    "x , y , z = get_coordinates()"
   ]
  },
  {
   "cell_type": "code",
   "execution_count": 7,
   "id": "098b1ccf",
   "metadata": {},
   "outputs": [],
   "source": [
    "# Initial ISosurface\n",
    "fig1 = go.FigureWidget(data=go.Isosurface(\n",
    "    x = x,\n",
    "    y = y,\n",
    "    z = z,\n",
    "    value = values,\n",
    "    isomin = 0.0,\n",
    "    isomax = 0.0,\n",
    "    caps = dict(x_show=False, y_show=False),  #setting up the values of parameter\n",
    "    colorscale = 'plasma',\n",
    "    cauto = False,\n",
    "    cmin = min(values),\n",
    "    cmax = max(values),\n",
    "    opacity = 1,\n",
    "    colorbar = dict(thickness = 20,ticklen=4),\n",
    "    showscale = False\n",
    "))\n",
    "# fig1.show()"
   ]
  },
  {
   "cell_type": "code",
   "execution_count": 8,
   "id": "28e9d123",
   "metadata": {},
   "outputs": [],
   "source": [
    "# Create a histogram \n",
    "histoGram = go.Histogram(x = values,nbinsx = 30)\n",
    "\n",
    "# Create a layout object\n",
    "layout = go.Layout(\n",
    "    xaxis = dict(title='Vortex Scalar Values'),\n",
    "    yaxis = dict(title='Frequency'),\n",
    ")\n",
    "\n",
    "# Create a figure object\n",
    "fig2 = go.FigureWidget(data=[histoGram], layout=layout)\n",
    "# fig2.show()"
   ]
  },
  {
   "cell_type": "code",
   "execution_count": 9,
   "id": "decb797c",
   "metadata": {},
   "outputs": [
    {
     "data": {
      "application/vnd.jupyter.widget-view+json": {
       "model_id": "51500b8ed11c4531973c6c9ccd366f0f",
       "version_major": 2,
       "version_minor": 0
      },
      "text/plain": [
       "VBox(children=(HBox(children=(FloatSlider(value=0.0, continuous_update=False, description='Isovalue', max=0.43…"
      ]
     },
     "metadata": {},
     "output_type": "display_data"
    }
   ],
   "source": [
    "# Create the widgets\n",
    "slider = widgets.FloatSlider(value = 0.0, min = Range[0], max = Range[1], description = 'Isovalue',continuous_update = False,step = 0.01)\n",
    "button = widgets.Button(description='Reset')\n",
    "\n",
    "def update_values(isovalue):\n",
    "    return [val for val in values if val >= isovalue - 0.25 and val <= isovalue + 0.25]\n",
    "\n",
    "def update(change):\n",
    "    isovalue = change.new\n",
    "    fig1.data[0].isomin = isovalue\n",
    "    fig1.data[0].isomax = isovalue\n",
    "    # Updating the histogram data based on slider value\n",
    "    fig2.data[0].x = update_values(isovalue)\n",
    "    \n",
    "    \n",
    "def reset(button):\n",
    "    # Reset isovalue to initial value\n",
    "    slider.value = 0.0\n",
    "    isovalue = 0.0\n",
    "    fig1.data[0].update(isomin=isovalue, isomax=isovalue)\n",
    "    # Reset histogram data\n",
    "    fig2.data[0].x = values\n",
    "    \n",
    "# Link the slider to the update function\n",
    "slider.observe(update, names='value')\n",
    "\n",
    "# Link the button to the reset function\n",
    "button.on_click(reset)\n",
    "\n",
    "# Create the layout for the widget\n",
    "Graph = widgets.VBox([\n",
    "    widgets.HBox([slider, button]), \n",
    "    widgets.HBox([fig1, fig2])\n",
    "])\n",
    "\n",
    "# Display the widget\n",
    "display(Graph)"
   ]
  },
  {
   "cell_type": "markdown",
   "id": "58486ec2",
   "metadata": {},
   "source": [
    "##### "
   ]
  }
 ],
 "metadata": {
  "kernelspec": {
   "display_name": "Python 3 (ipykernel)",
   "language": "python",
   "name": "python3"
  },
  "language_info": {
   "codemirror_mode": {
    "name": "ipython",
    "version": 3
   },
   "file_extension": ".py",
   "mimetype": "text/x-python",
   "name": "python",
   "nbconvert_exporter": "python",
   "pygments_lexer": "ipython3",
   "version": "3.9.15"
  }
 },
 "nbformat": 4,
 "nbformat_minor": 5
}
