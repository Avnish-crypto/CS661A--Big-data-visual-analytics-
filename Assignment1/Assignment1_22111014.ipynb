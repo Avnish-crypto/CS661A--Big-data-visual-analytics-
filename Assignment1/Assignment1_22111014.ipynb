{
 "cells": [
  {
   "attachments": {},
   "cell_type": "markdown",
   "id": "e2481aef",
   "metadata": {},
   "source": [
    "# Big Data Assignment 1\n",
    "# Avnish Tripathi\n",
    "# 22111014"
   ]
  },
  {
   "cell_type": "code",
   "execution_count": 1,
   "id": "b17f8af9",
   "metadata": {},
   "outputs": [],
   "source": [
    "from vtk import *  # importing vtk "
   ]
  },
  {
   "cell_type": "markdown",
   "id": "59e0ca4a",
   "metadata": {},
   "source": [
    "# QUESTION 1"
   ]
  },
  {
   "attachments": {},
   "cell_type": "markdown",
   "id": "3e0e94e5",
   "metadata": {},
   "source": [
    "1.1 Number of Cells in the Dataset"
   ]
  },
  {
   "cell_type": "code",
   "execution_count": 2,
   "id": "b0bc4f11",
   "metadata": {},
   "outputs": [],
   "source": [
    "reader = vtkXMLImageDataReader()\n",
    "reader.SetFileName('Isabel_2D.vti')\n",
    "reader.Update()\n",
    "data = reader.GetOutput()"
   ]
  },
  {
   "cell_type": "code",
   "execution_count": 3,
   "id": "9aa637fb",
   "metadata": {},
   "outputs": [
    {
     "name": "stdout",
     "output_type": "stream",
     "text": [
      "Number of Cells in the Dataset:  62001\n"
     ]
    }
   ],
   "source": [
    "Num_cells = data.GetNumberOfCells()\n",
    "print(\"Number of Cells in the Dataset: \",Num_cells)"
   ]
  },
  {
   "attachments": {},
   "cell_type": "markdown",
   "id": "643bf914",
   "metadata": {},
   "source": [
    "1.2 The dimension of the Dataset"
   ]
  },
  {
   "cell_type": "code",
   "execution_count": 4,
   "id": "10b390cc",
   "metadata": {},
   "outputs": [
    {
     "name": "stdout",
     "output_type": "stream",
     "text": [
      "Dimensions of the Dataset:  (250, 250, 1)\n"
     ]
    }
   ],
   "source": [
    "num_dimensions = data.GetDimensions()\n",
    "print(\"Dimensions of the Dataset: \",num_dimensions)"
   ]
  },
  {
   "cell_type": "markdown",
   "id": "c77fc8c2",
   "metadata": {},
   "source": [
    "1.3 Number of Points present in Dataset"
   ]
  },
  {
   "cell_type": "code",
   "execution_count": 5,
   "id": "5e2dc0fa",
   "metadata": {},
   "outputs": [
    {
     "name": "stdout",
     "output_type": "stream",
     "text": [
      "Number of Points present in the uniform grid of the data: 62500\n"
     ]
    }
   ],
   "source": [
    "num_points = num_dimensions[0] * num_dimensions[1] * num_dimensions[2]\n",
    "print(\"Number of Points present in the uniform grid of the data:\",num_points)"
   ]
  },
  {
   "cell_type": "markdown",
   "id": "0e267162",
   "metadata": {},
   "source": [
    "1.4 Range of Presure"
   ]
  },
  {
   "cell_type": "code",
   "execution_count": 6,
   "id": "faa96904",
   "metadata": {},
   "outputs": [
    {
     "name": "stdout",
     "output_type": "stream",
     "text": [
      "The range of Pressure values present in the dataset: (-1434.8590087890625, 630.5694580078125)\n",
      "from  -1434.8590087890625 to  630.5694580078125\n"
     ]
    }
   ],
   "source": [
    "surface = vtkGeometryFilter()\n",
    "surface.SetInputData(data)\n",
    "surface.Update()\n",
    "press_data = surface.GetOutput()\n",
    "range_pressure = press_data.GetPointData().GetArray('Pressure').GetRange()\n",
    "print(\"The range of Pressure values present in the dataset:\",range_pressure)\n",
    "print(\"from \",range_pressure[0],\"to \",range_pressure[1])"
   ]
  },
  {
   "attachments": {},
   "cell_type": "markdown",
   "id": "93825057",
   "metadata": {},
   "source": [
    "1.5  Average Pressure value of the entire dataset"
   ]
  },
  {
   "cell_type": "code",
   "execution_count": 7,
   "id": "f7f7c8f6",
   "metadata": {},
   "outputs": [
    {
     "name": "stdout",
     "output_type": "stream",
     "text": [
      "The average Pressure value of the entire dataset:  240.77722069091325\n"
     ]
    }
   ],
   "source": [
    "data_array = press_data.GetPointData().GetArray('Pressure')\n",
    "sum_pressure = 0\n",
    "tuples = data_array.GetNumberOfTuples()\n",
    "for i in range(tuples):\n",
    "    sum_pressure += data_array.GetTuple1(i)\n",
    "avg_press = sum_pressure/tuples\n",
    "\n",
    "print(\"The average Pressure value of the entire dataset: \",avg_press)"
   ]
  },
  {
   "attachments": {},
   "cell_type": "markdown",
   "id": "81f2fed9",
   "metadata": {},
   "source": [
    "1.6 Extract cell from cell id"
   ]
  },
  {
   "cell_type": "code",
   "execution_count": 8,
   "id": "be161f34",
   "metadata": {},
   "outputs": [],
   "source": [
    "cell_id = 0   # Cell_id will contain the id of the cell that we want to extract\n",
    "cell = data.GetCell(cell_id) "
   ]
  },
  {
   "attachments": {},
   "cell_type": "markdown",
   "id": "98641593",
   "metadata": {},
   "source": [
    "1.7 Extract the indices of the four corner vertices of the cell"
   ]
  },
  {
   "cell_type": "code",
   "execution_count": 9,
   "id": "97ea2352",
   "metadata": {},
   "outputs": [
    {
     "name": "stdout",
     "output_type": "stream",
     "text": [
      "The indices of the four corner vertices of the cell are: ( 0 , 1 , 251 , 250 )\n"
     ]
    }
   ],
   "source": [
    "## Query the 4 corner points of the cell\n",
    "pid1 = cell.GetPointId(0)\n",
    "pid2 = cell.GetPointId(1)    # accessing vertices in anticlockwise order\n",
    "pid3 = cell.GetPointId(3)   # pid var will store the indices of vertices of cell\n",
    "pid4 = cell.GetPointId(2)\n",
    "\n",
    "print('The indices of the four corner vertices of the cell are: (',pid1,',',pid2,',',pid3,',',pid4,')')"
   ]
  },
  {
   "attachments": {},
   "cell_type": "markdown",
   "id": "e35429bc",
   "metadata": {},
   "source": [
    "1.8 3D coordinate of each vertex of extracted cell"
   ]
  },
  {
   "cell_type": "code",
   "execution_count": 10,
   "id": "566efc3b",
   "metadata": {},
   "outputs": [
    {
     "name": "stdout",
     "output_type": "stream",
     "text": [
      "(0.0, 0.0, 25.0)\n",
      "(1.0, 0.0, 25.0)\n",
      "(1.0, 1.0, 25.0)\n",
      "(0.0, 1.0, 25.0)\n"
     ]
    }
   ],
   "source": [
    "## Print the locations (3D coordinates) of the points\n",
    "print(data.GetPoint(pid1))\n",
    "print(data.GetPoint(pid2))    # constant Z-coordinate value=25\n",
    "print(data.GetPoint(pid3))\n",
    "print(data.GetPoint(pid4))"
   ]
  },
  {
   "attachments": {},
   "cell_type": "markdown",
   "id": "97a9aa1f",
   "metadata": {},
   "source": [
    "1.9 3D Coordinate of the cell center"
   ]
  },
  {
   "cell_type": "code",
   "execution_count": 11,
   "id": "1697a4ef",
   "metadata": {},
   "outputs": [
    {
     "name": "stdout",
     "output_type": "stream",
     "text": [
      "The 3D coordinate of the cell center:  [0.5, 0.5, 25.0]\n"
     ]
    }
   ],
   "source": [
    "Centre_coordinate = []\n",
    "dim = 3                   # Change dimension Accordinly and code will Gonna work for higher dimensions.\n",
    "for i in range(dim):\n",
    "    temp = (data.GetPoint(pid1)[i] + data.GetPoint(pid2)[i] + data.GetPoint(pid3)[i] + data.GetPoint(pid4)[i])/4\n",
    "    Centre_coordinate.append(temp)\n",
    "print(\"The 3D coordinate of the cell center: \",Centre_coordinate)"
   ]
  },
  {
   "cell_type": "markdown",
   "id": "b437e9c1",
   "metadata": {},
   "source": [
    "1.10 The data/attribute value (Pressure) for all the four vertices of the extracted cell."
   ]
  },
  {
   "cell_type": "code",
   "execution_count": 12,
   "id": "f55ea389",
   "metadata": {},
   "outputs": [
    {
     "name": "stdout",
     "output_type": "stream",
     "text": [
      "The data/attribute value for all the four vertices of the extracted cell:  477.527587890625 474.79827880859375 467.60699462890625 478.0115661621094\n"
     ]
    }
   ],
   "source": [
    "data_Array1 = data.GetPointData().GetArray('Pressure')\n",
    "pressure_val1 = data_Array1.GetTuple1(pid1)\n",
    "pressure_val2 = data_Array1.GetTuple1(pid2)\n",
    "pressure_val3 = data_Array1.GetTuple1(pid3)\n",
    "pressure_val4 = data_Array1.GetTuple1(pid4)\n",
    "print(\"The data/attribute value for all the four vertices of the extracted cell: \",pressure_val1,pressure_val2,pressure_val3,pressure_val4)"
   ]
  },
  {
   "cell_type": "markdown",
   "id": "3089ac7f",
   "metadata": {},
   "source": [
    "1.11 The mean (average) Pressure value at the cell center"
   ]
  },
  {
   "cell_type": "code",
   "execution_count": 13,
   "id": "7143f247",
   "metadata": {},
   "outputs": [
    {
     "name": "stdout",
     "output_type": "stream",
     "text": [
      "The mean Pressure value at the cell center:  474.4861068725586\n"
     ]
    }
   ],
   "source": [
    "avg_pres = ( pressure_val1+pressure_val2+pressure_val3+pressure_val4)/4\n",
    "print(\"The mean Pressure value at the cell center: \",avg_pres)"
   ]
  },
  {
   "cell_type": "markdown",
   "id": "00ec62ed",
   "metadata": {},
   "source": [
    "# QUESTION 2"
   ]
  },
  {
   "cell_type": "code",
   "execution_count": 14,
   "id": "9e383e6b",
   "metadata": {},
   "outputs": [
    {
     "data": {
      "text/plain": [
       "3"
      ]
     },
     "execution_count": 14,
     "metadata": {},
     "output_type": "execute_result"
    }
   ],
   "source": [
    "points = vtkPoints()\n",
    "points.InsertNextPoint(data.GetPoint(pid1))\n",
    "points.InsertNextPoint(data.GetPoint(pid2))\n",
    "points.InsertNextPoint(data.GetPoint(pid3))  #we get pid1, pid2 ,pid3 ,pid4 from above.\n",
    "points.InsertNextPoint(data.GetPoint(pid4))"
   ]
  },
  {
   "cell_type": "code",
   "execution_count": 15,
   "id": "85d015c5",
   "metadata": {},
   "outputs": [],
   "source": [
    "polydata = vtkPolyData()   # create a new VtkPolyData object\n",
    "polydata.SetPoints(points)   # adding points"
   ]
  },
  {
   "cell_type": "code",
   "execution_count": 16,
   "id": "08e6230a",
   "metadata": {},
   "outputs": [
    {
     "data": {
      "text/plain": [
       "0"
      ]
     },
     "execution_count": 16,
     "metadata": {},
     "output_type": "execute_result"
    }
   ],
   "source": [
    "# specifying seperate CoLors\n",
    "CoLors = vtkUnsignedCharArray()  \n",
    "CoLors.SetNumberOfComponents(3)\n",
    "CoLors.SetName(\"Colors\")  #RGB 3-value tuple\n",
    "CoLors.InsertNextTuple3(255, 165, 0) # orange\n",
    "CoLors.InsertNextTuple3(255, 255, 255) # white       # we can also take other color Combinations\n",
    "CoLors.InsertNextTuple3(21, 244, 238) #fluorescent blue\n",
    "CoLors.InsertNextTuple3(255, 49, 49) # neon red\n",
    "polydata.GetPointData().SetScalars(CoLors)      #assigning CoLors"
   ]
  },
  {
   "cell_type": "code",
   "execution_count": 17,
   "id": "11318e12",
   "metadata": {},
   "outputs": [],
   "source": [
    "# Create the vertex glyph filter\n",
    "GlyphFilter = vtkVertexGlyphFilter()\n",
    "GlyphFilter.SetInputData(polydata)\n",
    "GlyphFilter.Update()"
   ]
  },
  {
   "cell_type": "code",
   "execution_count": 18,
   "id": "4f1fe7d6",
   "metadata": {},
   "outputs": [],
   "source": [
    "# Create the mapper, actor, and renderer\n",
    "mapper = vtkPolyDataMapper()\n",
    "mapper.SetInputConnection(GlyphFilter.GetOutputPort())"
   ]
  },
  {
   "cell_type": "code",
   "execution_count": 19,
   "id": "a0678de4",
   "metadata": {},
   "outputs": [],
   "source": [
    "actor = vtkActor()\n",
    "actor.SetMapper(mapper)\n",
    "actor.GetProperty().SetPointSize(20)\n",
    "renderer = vtkRenderer()\n",
    "renderer.AddActor(actor)"
   ]
  },
  {
   "cell_type": "code",
   "execution_count": 20,
   "id": "ae3e0a47",
   "metadata": {},
   "outputs": [],
   "source": [
    "# Display the renderer\n",
    "ren_Window = vtkRenderWindow()\n",
    "ren_Window.AddRenderer(renderer)\n",
    "iren_interactor = vtkRenderWindowInteractor()\n",
    "iren_interactor.SetRenderWindow(ren_Window)\n",
    "iren_interactor.Initialize()\n",
    "iren_interactor.Start()"
   ]
  },
  {
   "cell_type": "code",
   "execution_count": null,
   "id": "9ca2131e",
   "metadata": {},
   "outputs": [],
   "source": []
  }
 ],
 "metadata": {
  "kernelspec": {
   "display_name": "base",
   "language": "python",
   "name": "python3"
  },
  "language_info": {
   "codemirror_mode": {
    "name": "ipython",
    "version": 3
   },
   "file_extension": ".py",
   "mimetype": "text/x-python",
   "name": "python",
   "nbconvert_exporter": "python",
   "pygments_lexer": "ipython3",
   "version": "3.9.7"
  },
  "vscode": {
   "interpreter": {
    "hash": "631af202ec7c40e141c49d63cac6c8cb664469fed6e4d5ddc6436b49edc60500"
   }
  }
 },
 "nbformat": 4,
 "nbformat_minor": 5
}
